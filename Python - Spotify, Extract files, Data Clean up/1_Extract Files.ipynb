{
 "cells": [
  {
   "cell_type": "markdown",
   "id": "c3d1f672",
   "metadata": {},
   "source": [
    "## Importing packages"
   ]
  },
  {
   "cell_type": "code",
   "execution_count": null,
   "id": "b6fe9796",
   "metadata": {},
   "outputs": [],
   "source": [
    "import csv\n",
    "import pandas as pd"
   ]
  },
  {
   "cell_type": "markdown",
   "id": "6eca1aab",
   "metadata": {},
   "source": [
    "## Uploading data"
   ]
  },
  {
   "cell_type": "markdown",
   "id": "07e9d70d",
   "metadata": {},
   "source": [
    "### List of songs in my library requested from Spotify containing\n",
    "* artist\n",
    "* album\n",
    "* track\n",
    "* URI"
   ]
  },
  {
   "cell_type": "code",
   "execution_count": null,
   "id": "a5305433",
   "metadata": {},
   "outputs": [],
   "source": [
    "df = pd.read_csv(r'/Users/jass/Documents/projects/Spotify data/MyData/YourLibrary.csv')\n",
    "print(df)"
   ]
  },
  {
   "cell_type": "markdown",
   "id": "eb7da0ef",
   "metadata": {},
   "source": [
    "## Strip other characters to get only URI"
   ]
  },
  {
   "cell_type": "code",
   "execution_count": null,
   "id": "33d350c1",
   "metadata": {},
   "outputs": [],
   "source": [
    "URIs = df.uri\n",
    "URIs"
   ]
  },
  {
   "cell_type": "code",
   "execution_count": null,
   "id": "3f5e2680",
   "metadata": {},
   "outputs": [],
   "source": [
    "URIs = URIs.str.replace('spotify:track:','')\n",
    "URIs"
   ]
  },
  {
   "cell_type": "code",
   "execution_count": null,
   "id": "0be6d042",
   "metadata": {},
   "outputs": [],
   "source": [
    "for URI in URIs:\n",
    "    print(URI)"
   ]
  },
  {
   "cell_type": "code",
   "execution_count": null,
   "id": "7b7c505c",
   "metadata": {},
   "outputs": [],
   "source": [
    "URIs.shape"
   ]
  },
  {
   "cell_type": "code",
   "execution_count": null,
   "id": "5b1c03d1",
   "metadata": {},
   "outputs": [],
   "source": [
    "mylibrary = pd.concat([df, URIs], join = 'outer', axis = 1)"
   ]
  },
  {
   "cell_type": "code",
   "execution_count": null,
   "id": "f400c4fc",
   "metadata": {},
   "outputs": [],
   "source": [
    "mylibrary.to_csv(r'/Users/jass/Documents/projects/Spotify data/MyData/mylibrary.csv', index = False)"
   ]
  },
  {
   "cell_type": "markdown",
   "id": "402d23bd",
   "metadata": {},
   "source": [
    "## Codes for Spotify API"
   ]
  },
  {
   "cell_type": "code",
   "execution_count": null,
   "id": "20f14ff2",
   "metadata": {},
   "outputs": [],
   "source": [
    "import requests\n",
    "import datetime\n",
    "from urllib.parse import urlencode\n",
    "import base64\n",
    "\n",
    "# we need these two to authenticate with the API\n",
    "client_id = '' #input the client id in the quote\n",
    "client_secret = '' #input the client secret in the quote\n",
    "# we use these two to get the token (which will expire at some point)"
   ]
  },
  {
   "cell_type": "code",
   "execution_count": null,
   "id": "1f9d7e84",
   "metadata": {},
   "outputs": [],
   "source": [
    "class SpotifyAPI(object):\n",
    "    access_token = None\n",
    "    access_token_expires = datetime.datetime.now()\n",
    "    access_token_did_expire = True\n",
    "    client_id = None\n",
    "    client_secret = None\n",
    "    token_url = \"https://accounts.spotify.com/api/token\"\n",
    "    \n",
    "    def __init__(self, client_id, client_secret, *args, **kwargs):\n",
    "        super().__init__(*args, **kwargs)\n",
    "        self.client_id = client_id\n",
    "        self.client_secret = client_secret\n",
    "      \n",
    "    def get_client_credentials(self):\n",
    "        \"\"\"\n",
    "        Returns a base64 encoded string\n",
    "        \"\"\"\n",
    "        client_id = self.client_id\n",
    "        client_secret = self.client_secret\n",
    "        if client_secret == None or client_id == None:\n",
    "            raise Exception(\"You must set client_id and client_secret\")\n",
    "        client_creds = f\"{client_id}:{client_secret}\"\n",
    "        client_creds_b64 = base64.b64encode(client_creds.encode())\n",
    "        return client_creds_b64.decode()\n",
    "    \n",
    "    def get_token_headers(self):\n",
    "        client_creds_b64 = self.get_client_credentials()\n",
    "        return {\n",
    "            \"Authorization\": f\"Basic {client_creds_b64}\"\n",
    "        }\n",
    "    def get_token_data(self):\n",
    "        return {\n",
    "            \"grant_type\": \"client_credentials\"\n",
    "        }\n",
    "    def perform_auth(self):\n",
    "        token_url = self.token_url\n",
    "        token_data = self.get_token_data()\n",
    "        token_headers = self.get_token_headers()\n",
    "        r = requests.post(token_url, data=token_data, headers=token_headers)\n",
    "        if r.status_code not in range(200, 299):\n",
    "            raise Exception(\"Could not authenticate client.\")\n",
    "            #return False\n",
    "        # so if the request is valid, then..\n",
    "        # now we have our token!\n",
    "        data = r.json()\n",
    "        # then we create these variables\n",
    "        now = datetime.datetime.now() # will give you the time now\n",
    "        access_token = data['access_token']\n",
    "        expires_in = data['expires_in'] #seconds\n",
    "        expires = now + datetime.timedelta(seconds=expires_in)\n",
    "        self.access_token = access_token\n",
    "        self.access_token_expires = expires\n",
    "        self.access_token_did_expire = expires < now\n",
    "        return True\n",
    "        \n",
    "    def get_access_token(self):\n",
    "        #auth_done = self.perform_auth()\n",
    "        #if not auth_done:\n",
    "            #raise Exception(\"Authentication failed\")\n",
    "        token = self.access_token\n",
    "        expires = self.access_token_expires\n",
    "        now = datetime.datetime.now()\n",
    "        if expires < now:\n",
    "            self.perform_auth()\n",
    "            return self.get_access_token()\n",
    "        elif token == None:\n",
    "            self.perform_auth()\n",
    "            return self.get_access_token()\n",
    "        return token\n",
    "    \n",
    "    def get_resource_header(self):\n",
    "        access_token = self.get_access_token()\n",
    "        headers = {\n",
    "            \"Authorization\": f\"Bearer {access_token}\"\n",
    "        }\n",
    "        return headers\n",
    "    \n",
    "    def get_resource(self, lookup_id, resource_type='albums', version='v1'):\n",
    "        endpoint = f\"https://api.spotify.com/{version}/{resource_type}/{lookup_id}\"\n",
    "        headers = self.get_resource_header()\n",
    "        r = requests.get(endpoint, headers=headers)\n",
    "        #if r.status_code not in range(200, 299):\n",
    "         #   return {}\n",
    "        return r.json()\n",
    "    \n",
    "    def get_album(self, _id):\n",
    "        return self.get_resource(_id, resource_type='albums')\n",
    "    \n",
    "    def get_artist(self, _id):\n",
    "        return self.get_resource(_id, resource_type='artists')\n",
    "    \n",
    "    #not that useful\n",
    "    def get_audio_analysis(self, _id):\n",
    "        return self.get_resource(_id, resource_type='audio-analysis')\n",
    "    \n",
    "    #get feature for just 1 song\n",
    "    def get_audio_features(self, _id):\n",
    "        # to make it a loop so that it can do many songs\n",
    "        #mylist = []\n",
    "        #for id_ in my_list:\n",
    "        return self.get_resource(_id, resource_type='audio-features')\n",
    "    \n",
    "    #get track (and eventually.. genre)\n",
    "    def get_tracks(self, _id):\n",
    "        return self.get_resource(_id, resource_type='tracks')\n",
    "\n",
    "    def base_search(self, query_params):\n",
    "        headers = self.get_resource_header()\n",
    "        endpoint = \"https://api.spotify.com/v1/search\"\n",
    "        lookup_url = f\"{endpoint}?{query_params}\"\n",
    "        print(lookup_url)\n",
    "        r = requests.get(lookup_url, headers=headers)\n",
    "        if r.status_code not in range (200, 299):\n",
    "            return {}\n",
    "        return r.json()\n",
    "    \n",
    "        # we will adjust the queries (more robust queries than just strings eg. dictionary)\n",
    "    \n",
    "    def search(self, query=None, operator=None, operator_query=None, search_type='artist'):\n",
    "        if query == None:\n",
    "            raise Exception(\"A query is required\")\n",
    "        if isinstance(query, dict):\n",
    "            query = \" \".join([f\"{k}:{v}\" for k,v in query.items()])\n",
    "        if operator != None and operator_query != None:\n",
    "            if operator.lower == \"or\" or operator.lower == \"not\":\n",
    "                operator = operator.upper()\n",
    "                if ininstance(operator_query, str):\n",
    "                    query = f\"{query} {operator} {operator_query}\"\n",
    "        query_params = urlencode({\"q\": query, \"type\": search_type.lower()})\n",
    "        print(query_params)\n",
    "        return self.base_search(query_params)"
   ]
  },
  {
   "cell_type": "code",
   "execution_count": null,
   "id": "ade180d4",
   "metadata": {},
   "outputs": [],
   "source": [
    "spotify = SpotifyAPI(client_id, client_secret)"
   ]
  },
  {
   "cell_type": "markdown",
   "id": "0a952721",
   "metadata": {},
   "source": [
    "## Get tracks"
   ]
  },
  {
   "cell_type": "code",
   "execution_count": null,
   "id": "c8a1ffa1",
   "metadata": {},
   "outputs": [],
   "source": [
    "# using 'track uri' to get info about that track, no genre though :(\n",
    "all_URIs = [] # this must be outside the for loop!! be careful\n",
    "for URI in URIs:\n",
    "    all_URIs.append(spotify.get_tracks(URI))"
   ]
  },
  {
   "cell_type": "code",
   "execution_count": null,
   "id": "d9b05ea8",
   "metadata": {},
   "outputs": [],
   "source": [
    "all_URIs"
   ]
  },
  {
   "cell_type": "code",
   "execution_count": null,
   "id": "164b7a4e",
   "metadata": {},
   "outputs": [],
   "source": [
    "# change from dict to dataframe\n",
    "all_URIs = pd.DataFrame.from_dict(all_URIs)\n",
    "all_URIs.shape"
   ]
  },
  {
   "cell_type": "code",
   "execution_count": null,
   "id": "af30c717",
   "metadata": {},
   "outputs": [],
   "source": [
    "# turn into csv\n",
    "all_URIs.to_csv(r'/Users/jass/Documents/projects/Spotify data/MyData/track_data.csv', index = False)"
   ]
  },
  {
   "cell_type": "markdown",
   "id": "ee9db92b",
   "metadata": {},
   "source": [
    "## Get artist ID & match with track ID"
   ]
  },
  {
   "cell_type": "code",
   "execution_count": null,
   "id": "de6d890d",
   "metadata": {},
   "outputs": [],
   "source": [
    "# we have columns that are again dictionary: 'albums' & 'artists'\n",
    "artists = all_URIs.artists\n",
    "artists.shape\n",
    "artists"
   ]
  },
  {
   "cell_type": "code",
   "execution_count": null,
   "id": "d0a878b2",
   "metadata": {},
   "outputs": [],
   "source": [
    "artisturl_stripped = []\n",
    "artistname_stripped = []\n",
    "for artist in artists:\n",
    "    artist = str(artist).strip(\"[{'external_urls': {'spotify': '\")\n",
    "    artisturl = artist[32:54]\n",
    "    artisturl_stripped.append(artisturl)"
   ]
  },
  {
   "cell_type": "code",
   "execution_count": null,
   "id": "1a5c8f07",
   "metadata": {},
   "outputs": [],
   "source": [
    "artisturl_stripped\n"
   ]
  },
  {
   "cell_type": "markdown",
   "id": "caabf3b9",
   "metadata": {},
   "source": [
    "### artist_id column"
   ]
  },
  {
   "cell_type": "code",
   "execution_count": null,
   "id": "50ec4601",
   "metadata": {},
   "outputs": [],
   "source": [
    "# then change 'artisturl_stripped' to dataframe\n",
    "df_artisturl_stripped = pd.DataFrame(artisturl_stripped, columns = ['artist_id'])"
   ]
  },
  {
   "cell_type": "markdown",
   "id": "d5e534af",
   "metadata": {},
   "source": [
    "### track_id column"
   ]
  },
  {
   "cell_type": "code",
   "execution_count": null,
   "id": "c92dc726",
   "metadata": {},
   "outputs": [],
   "source": [
    "# then get just track id, turn into dataframe\n",
    "df_track_id = pd.DataFrame(all_URIs.id)"
   ]
  },
  {
   "cell_type": "markdown",
   "id": "9778f5db",
   "metadata": {},
   "source": [
    "## concatinate column 'artist_id' & 'track_id'"
   ]
  },
  {
   "cell_type": "code",
   "execution_count": null,
   "id": "e3ae59b1",
   "metadata": {},
   "outputs": [],
   "source": [
    "track_artists = pd.concat([df_artisturl_stripped, df_track_id], join = 'outer', axis = 1)\n",
    "track_artists"
   ]
  },
  {
   "cell_type": "markdown",
   "id": "a1f22888",
   "metadata": {},
   "source": [
    "### Remove duplicated artist to get a list of unique artists"
   ]
  },
  {
   "cell_type": "code",
   "execution_count": null,
   "id": "7de868ed",
   "metadata": {},
   "outputs": [],
   "source": [
    "print (\"The number of artists before removing duplicates : \")\n",
    "print(len(track_artists))\n",
    "\n",
    "artist_unique = []\n",
    "for i in track_artists.artist_id:\n",
    "    if i not in artist_unique:\n",
    "        artist_unique.append(i)\n",
    "        \n",
    "# printing list after removal \n",
    "print (\"The number of artists after removing duplicates : \")\n",
    "print(len(artist_unique))\n"
   ]
  },
  {
   "cell_type": "markdown",
   "id": "600f9343",
   "metadata": {},
   "source": [
    "### List of unique artists in the LIBRARY :)"
   ]
  },
  {
   "cell_type": "code",
   "execution_count": null,
   "id": "7d7eb6c7",
   "metadata": {},
   "outputs": [],
   "source": [
    "artist_unique = pd.DataFrame(artist_unique, columns = ['artist_id'])\n",
    "artist_unique"
   ]
  },
  {
   "cell_type": "markdown",
   "id": "dc65f237",
   "metadata": {},
   "source": [
    "## To get list of unique artists in STREAMING HISTORY :)"
   ]
  },
  {
   "cell_type": "markdown",
   "id": "9c5799f2",
   "metadata": {},
   "source": [
    "### Remove duplicated artists to get a list of unique artists"
   ]
  },
  {
   "cell_type": "code",
   "execution_count": null,
   "id": "96ca633c",
   "metadata": {},
   "outputs": [],
   "source": [
    "#upload total_streaming_history\n",
    "stream = pd.read_csv(r'/Users/jass/Documents/projects/Spotify data/MyData/total_streaming_history.csv')\n",
    "print(stream)"
   ]
  },
  {
   "cell_type": "code",
   "execution_count": null,
   "id": "d7513ac4",
   "metadata": {},
   "outputs": [],
   "source": [
    "print (\"The number of artists before removing duplicates : \")\n",
    "print(len(stream))\n",
    "\n",
    "streamartist_unique = []\n",
    "for i in stream.artist_name:\n",
    "    if i not in streamartist_unique:\n",
    "        streamartist_unique.append(i)\n",
    "        \n",
    "# printing list after removal \n",
    "print (\"The number of artists after removing duplicates : \")\n",
    "print(len(streamartist_unique))"
   ]
  },
  {
   "cell_type": "code",
   "execution_count": null,
   "id": "1efdeaf0",
   "metadata": {},
   "outputs": [],
   "source": [
    "streamartist_unique = pd.DataFrame(streamartist_unique, columns = ['streamartist_name'])\n",
    "streamartist_unique"
   ]
  },
  {
   "cell_type": "code",
   "execution_count": null,
   "id": "83ac149c",
   "metadata": {},
   "outputs": [],
   "source": [
    "streamartist_unique_list = streamartist_unique['streamartist_name'].tolist()"
   ]
  },
  {
   "cell_type": "code",
   "execution_count": null,
   "id": "6d272ff9",
   "metadata": {},
   "outputs": [],
   "source": [
    "streamartist_unique_list"
   ]
  },
  {
   "cell_type": "code",
   "execution_count": null,
   "id": "c5108d6f",
   "metadata": {},
   "outputs": [],
   "source": [
    "#to slice list\n",
    "def splitartist(list_a, size):\n",
    "    for i in range(0, len(streamartist_unique_list), size):\n",
    "        yield list_a[i:i + size]\n",
    "size = 20\n",
    "print(list(splitartist(streamartist_unique_list, size)))"
   ]
  },
  {
   "cell_type": "markdown",
   "id": "757cd52e",
   "metadata": {},
   "source": [
    "###### In case wanting to get other information such as artist_id, genres, for all the streamed tracks (not just the tracks in the library), then have to use 'search' API (20 items at a time)"
   ]
  },
  {
   "cell_type": "code",
   "execution_count": null,
   "id": "9c8cd1e0",
   "metadata": {},
   "outputs": [],
   "source": [
    "#now we only have artist_name -> we need other info too (artist_id, genres, etc) -> have to use 'search' API\n",
    "## HOWEVER, we can only search only 20 items a time\n",
    "info_streamartist =[]\n",
    "for streamartist in streamartist_unique:\n",
    "    info_streamartist.append(spotify.search(query=streamartist, search_type=\"artist\"))\n",
    "    #info_streamartist.append(spotify.search({\"artist\": \"Avril Lavigne\"}, search_type=\"artist\"))\n",
    "info_streamartist\n",
    "# doesn't work yet"
   ]
  },
  {
   "cell_type": "markdown",
   "id": "51483136",
   "metadata": {},
   "source": [
    "### Export track_artists to CSV (for 2,716 songs in mylibrary)"
   ]
  },
  {
   "cell_type": "code",
   "execution_count": null,
   "id": "f0baf81e",
   "metadata": {},
   "outputs": [],
   "source": [
    "# to get repeated artists for unique tracks\n",
    "track_artists.to_csv(r'/Users/jass/Documents/projects/Spotify data/MyData/track_data.csv', index = False)\n"
   ]
  },
  {
   "cell_type": "markdown",
   "id": "cd462824",
   "metadata": {},
   "source": [
    "## Get Genre for each artist"
   ]
  },
  {
   "cell_type": "code",
   "execution_count": null,
   "id": "94990fb3",
   "metadata": {},
   "outputs": [],
   "source": [
    "for artisturl in artist_unique:\n",
    "    print(artisturl)"
   ]
  },
  {
   "cell_type": "markdown",
   "id": "1e206254",
   "metadata": {},
   "source": [
    "### Get genres of artists in LIBRARY :)"
   ]
  },
  {
   "cell_type": "code",
   "execution_count": null,
   "id": "087e0c34",
   "metadata": {},
   "outputs": [],
   "source": [
    "all_genres = [] # this must be outside the for loop!! be careful\n",
    "for artisturl in artist_unique:\n",
    "    all_genres.append(spotify.get_artist(artisturl))\n",
    "all_genres"
   ]
  },
  {
   "cell_type": "code",
   "execution_count": null,
   "id": "4c200ba0",
   "metadata": {},
   "outputs": [],
   "source": [
    "all_genres = pd.DataFrame(all_genres)\n",
    "all_genres.to_csv(r'/Users/jass/Documents/projects/Spotify data/MyData/all_genres.csv', index = False)"
   ]
  },
  {
   "cell_type": "code",
   "execution_count": null,
   "id": "c487b343",
   "metadata": {},
   "outputs": [],
   "source": [
    "all_genres.genres"
   ]
  },
  {
   "cell_type": "code",
   "execution_count": null,
   "id": "96705237",
   "metadata": {},
   "outputs": [],
   "source": [
    "# change to dataframe\n",
    "artist_genres = pd.DataFrame(all_genres.genres)\n",
    "artist_genres"
   ]
  },
  {
   "cell_type": "code",
   "execution_count": null,
   "id": "4f94d4bb",
   "metadata": {},
   "outputs": [],
   "source": [
    "#split genres into separate columns\n",
    "genre_split = artist_genres.genres.apply(pd.Series).add_prefix('genre_')"
   ]
  },
  {
   "cell_type": "markdown",
   "id": "1b3278fa",
   "metadata": {},
   "source": [
    "### Genre column"
   ]
  },
  {
   "cell_type": "code",
   "execution_count": null,
   "id": "1e7426eb",
   "metadata": {},
   "outputs": [],
   "source": [
    "genre_split"
   ]
  },
  {
   "cell_type": "markdown",
   "id": "ef9e647f",
   "metadata": {},
   "source": [
    "### Unique artist column"
   ]
  },
  {
   "cell_type": "code",
   "execution_count": null,
   "id": "5c73f52e",
   "metadata": {},
   "outputs": [],
   "source": [
    "artist_unique"
   ]
  },
  {
   "cell_type": "markdown",
   "id": "3c5cb66b",
   "metadata": {},
   "source": [
    "## concatinate column 'genre' & 'artist_id'"
   ]
  },
  {
   "cell_type": "code",
   "execution_count": null,
   "id": "1c5a671e",
   "metadata": {},
   "outputs": [],
   "source": [
    "genres_uniqueartists = pd.concat([artist_unique, genre_split], join = 'outer', axis = 1)\n",
    "genres_uniqueartists"
   ]
  },
  {
   "cell_type": "code",
   "execution_count": null,
   "id": "dca030c7",
   "metadata": {},
   "outputs": [],
   "source": [
    "# unpivot genres for each artist (one artist has many genres)\n",
    "genres_uniqueartists_unpivot = pd.melt(genres_uniqueartists, id_vars='artist_id', value_vars=['genre_0', 'genre_1',\n",
    "                                'genre_2', 'genre_3', 'genre_4', 'genre_5', 'genre_6', 'genre_7',\n",
    "                                'genre_8', 'genre_9', 'genre_10', 'genre_11'])\n",
    "\n",
    "print(genres_uniqueartists_unpivot)"
   ]
  },
  {
   "cell_type": "code",
   "execution_count": null,
   "id": "91153296",
   "metadata": {},
   "outputs": [],
   "source": [
    "genres_uniqueartists_unpivot.to_csv(r'/Users/jass/Documents/projects/Spotify data/MyData/genre_unpivot.csv', index = False)"
   ]
  },
  {
   "cell_type": "markdown",
   "id": "a82442db",
   "metadata": {},
   "source": [
    "## Get audio features"
   ]
  },
  {
   "cell_type": "code",
   "execution_count": null,
   "id": "a910063d",
   "metadata": {},
   "outputs": [],
   "source": [
    "track_ids = all_URIs.id"
   ]
  },
  {
   "cell_type": "code",
   "execution_count": null,
   "id": "c54041e2",
   "metadata": {},
   "outputs": [],
   "source": [
    "for track_id in track_ids:\n",
    "    print(track_id)"
   ]
  },
  {
   "cell_type": "code",
   "execution_count": null,
   "id": "c17ef538",
   "metadata": {},
   "outputs": [],
   "source": [
    "all_features = []\n",
    "for track_id in track_ids: \n",
    "    all_features.append(spotify.get_audio_features(track_id))"
   ]
  },
  {
   "cell_type": "code",
   "execution_count": null,
   "id": "9c3226be",
   "metadata": {},
   "outputs": [],
   "source": [
    "all_features = pd.DataFrame(all_features)\n",
    "all_features.to_csv(r'/Users/jass/Documents/projects/Spotify data/MyData/all_features.csv', index = False)"
   ]
  }
 ],
 "metadata": {
  "kernelspec": {
   "display_name": "Python 3 (ipykernel)",
   "language": "python",
   "name": "python3"
  },
  "language_info": {
   "codemirror_mode": {
    "name": "ipython",
    "version": 3
   },
   "file_extension": ".py",
   "mimetype": "text/x-python",
   "name": "python",
   "nbconvert_exporter": "python",
   "pygments_lexer": "ipython3",
   "version": "3.9.7"
  }
 },
 "nbformat": 4,
 "nbformat_minor": 5
}
