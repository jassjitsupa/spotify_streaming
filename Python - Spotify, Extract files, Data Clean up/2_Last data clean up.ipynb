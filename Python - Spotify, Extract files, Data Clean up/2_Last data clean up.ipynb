{
 "cells": [
  {
   "cell_type": "markdown",
   "id": "6e727de1",
   "metadata": {},
   "source": [
    "## Clean up artist_popularity (stripped href)"
   ]
  },
  {
   "cell_type": "code",
   "execution_count": null,
   "id": "b9249eee",
   "metadata": {},
   "outputs": [],
   "source": [
    "import csv\n",
    "import pandas as pd\n"
   ]
  },
  {
   "cell_type": "code",
   "execution_count": null,
   "id": "51af1fbe",
   "metadata": {},
   "outputs": [],
   "source": [
    "df = pd.read_csv(r'/Users/jass/Documents/projects/Spotify data/MyData/artist_popularity.csv')\n",
    "print(df)\n",
    "#popularity data is from 'Get tracks' API"
   ]
  },
  {
   "cell_type": "code",
   "execution_count": null,
   "id": "973ba164",
   "metadata": {},
   "outputs": [],
   "source": [
    "followers_stripped = []\n",
    "for follower in df.followers:\n",
    "    follower_frontstrip = str(follower).strip(\"{'href': None, 'total': \")\n",
    "    follower_stripped = str(follower_frontstrip).strip(\"}\")\n",
    "    followers_stripped.append(follower_stripped)"
   ]
  },
  {
   "cell_type": "code",
   "execution_count": null,
   "id": "a7d007bb",
   "metadata": {},
   "outputs": [],
   "source": [
    "#followers_stripped\n",
    "followers_stripped = pd.DataFrame(followers_stripped, columns = ['followers'])"
   ]
  },
  {
   "cell_type": "code",
   "execution_count": null,
   "id": "2aaebb9b",
   "metadata": {},
   "outputs": [],
   "source": [
    "followers_stripped"
   ]
  },
  {
   "cell_type": "code",
   "execution_count": null,
   "id": "64c85053",
   "metadata": {},
   "outputs": [],
   "source": [
    "artist_popularity = pd.concat([df, followers_stripped], join = 'outer', axis = 1)"
   ]
  },
  {
   "cell_type": "code",
   "execution_count": null,
   "id": "19aa22d2",
   "metadata": {},
   "outputs": [],
   "source": [
    "artist_popularity"
   ]
  },
  {
   "cell_type": "code",
   "execution_count": null,
   "id": "adca9a07",
   "metadata": {},
   "outputs": [],
   "source": [
    "artist_popularity.to_csv(r'/Users/jass/Documents/projects/Spotify data/MyData/artist_popularity.csv', index = False)\n"
   ]
  },
  {
   "cell_type": "markdown",
   "id": "e6843b8b",
   "metadata": {},
   "source": [
    "## Append streaming history"
   ]
  },
  {
   "cell_type": "code",
   "execution_count": null,
   "id": "9b3ece74",
   "metadata": {},
   "outputs": [],
   "source": [
    "import glob\n",
    "import os"
   ]
  },
  {
   "cell_type": "code",
   "execution_count": null,
   "id": "9fed2104",
   "metadata": {},
   "outputs": [],
   "source": [
    "# setting the path for joining multiple files\n",
    "files = os.path.join(\"/Users/jass/Documents/projects/Spotify data/MyData/\", \"StreamingHistory*.csv\")"
   ]
  },
  {
   "cell_type": "code",
   "execution_count": null,
   "id": "0b45d1ef",
   "metadata": {},
   "outputs": [],
   "source": [
    "# list of merged files returned\n",
    "files = glob.glob(files)\n",
    "print(\"Resultant CSV after joining all CSV files at a particular location...\");"
   ]
  },
  {
   "cell_type": "code",
   "execution_count": null,
   "id": "261793d4",
   "metadata": {},
   "outputs": [],
   "source": [
    "# joining files with concat and read_csv\n",
    "streaming_df = pd.concat(map(pd.read_csv, files), ignore_index=True)\n",
    "print(streaming_df)"
   ]
  },
  {
   "cell_type": "code",
   "execution_count": null,
   "id": "2b5c4013",
   "metadata": {},
   "outputs": [],
   "source": [
    "#export to csv\n",
    "streaming_df.to_csv(r'/Users/jass/Documents/projects/Spotify data/MyData/total_streaming_history.csv', index = False)\n"
   ]
  },
  {
   "cell_type": "code",
   "execution_count": null,
   "id": "908a5518",
   "metadata": {},
   "outputs": [],
   "source": []
  },
  {
   "cell_type": "code",
   "execution_count": null,
   "id": "5ba29f15",
   "metadata": {},
   "outputs": [],
   "source": []
  },
  {
   "cell_type": "code",
   "execution_count": null,
   "id": "37667371",
   "metadata": {},
   "outputs": [],
   "source": []
  },
  {
   "cell_type": "code",
   "execution_count": null,
   "id": "d74c1b37",
   "metadata": {},
   "outputs": [],
   "source": []
  }
 ],
 "metadata": {
  "kernelspec": {
   "display_name": "Python 3 (ipykernel)",
   "language": "python",
   "name": "python3"
  },
  "language_info": {
   "codemirror_mode": {
    "name": "ipython",
    "version": 3
   },
   "file_extension": ".py",
   "mimetype": "text/x-python",
   "name": "python",
   "nbconvert_exporter": "python",
   "pygments_lexer": "ipython3",
   "version": "3.9.7"
  }
 },
 "nbformat": 4,
 "nbformat_minor": 5
}
